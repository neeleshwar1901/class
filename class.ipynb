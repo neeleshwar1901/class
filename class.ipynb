{
  "nbformat": 4,
  "nbformat_minor": 0,
  "metadata": {
    "colab": {
      "provenance": []
    },
    "kernelspec": {
      "name": "python3",
      "display_name": "Python 3"
    },
    "language_info": {
      "name": "python"
    }
  },
  "cells": [
    {
      "cell_type": "markdown",
      "source": [
        "TASK 1\n",
        "\n",
        "Problem Statement 1: Create a Constructor for a Person\n",
        "\n",
        "Write a JavaScript function constructor named Person that takes two parameters, name, and age, and Add a\n",
        "method to the prototype to display name and age. Then, create two instances of Person and display their\n",
        "names and ages."
      ],
      "metadata": {
        "id": "3IDWQhntRZkq"
      }
    },
    {
      "cell_type": "code",
      "source": [
        "\n",
        "function Person(name, age) {\n",
        "  this.name = name;\n",
        "  this.age = age;\n",
        "}\n",
        "\n",
        "Person.prototype.displayInfo = function () {\n",
        "  console.log(`Name: ${this.name}, Age: ${this.age}`);\n",
        "};\n",
        "\n",
        "const person1 = new Person(\"Alice\", 25);\n",
        "const person2 = new Person(\"Bob\", 30);\n",
        "\n",
        "person1.displayInfo();  // Output: Name: Alice, Age: 25\n",
        "person2.displayInfo();  // Output: Name: Bob, Age: 30\n"
      ],
      "metadata": {
        "id": "ClLi39pJRbi5"
      },
      "execution_count": null,
      "outputs": []
    },
    {
      "cell_type": "markdown",
      "source": [
        "TASK 2\n",
        "\n",
        "Problem Statement 2: Implement a Bank Account\n",
        "\n",
        "Create a constructor function named BankAccount that initializes a bank account with an initial balance.\n",
        "Include methods for depositing and withdrawing money from the account. Write code to demonstrate these\n",
        "operations on a bank account object."
      ],
      "metadata": {
        "id": "z373QopgRsS0"
      }
    },
    {
      "cell_type": "code",
      "source": [
        "function BankAccount(initialBalance) {\n",
        "  this.balance = initialBalance;\n",
        "}\n",
        "\n",
        "BankAccount.prototype.deposit = function (amount) {\n",
        "  if (amount > 0) {\n",
        "    this.balance += amount;\n",
        "    console.log(`Deposited: $${amount}. New Balance: $${this.balance}`);\n",
        "  } else {\n",
        "    console.log(\"Deposit amount must be positive.\");\n",
        "  }\n",
        "};\n",
        "\n",
        "BankAccount.prototype.withdraw = function (amount) {\n",
        "  if (amount > 0 && amount <= this.balance) {\n",
        "    this.balance -= amount;\n",
        "    console.log(`Withdrawn: $${amount}. New Balance: $${this.balance}`);\n",
        "  } else {\n",
        "    console.log(\"Withdrawal amount must be positive and less than or equal to the balance.\");\n",
        "  }\n",
        "};\n",
        "\n",
        "\n",
        "const myAccount = new BankAccount(1000);\n",
        "\n",
        "myAccount.deposit(500);\n",
        "myAccount.withdraw(300);\n",
        "myAccount.withdraw(2000);\n"
      ],
      "metadata": {
        "id": "Yjmo0p6iRvHR"
      },
      "execution_count": null,
      "outputs": []
    },
    {
      "cell_type": "markdown",
      "source": [
        "TASK 3\n",
        "\n",
        "Problem Statement 3: Create a Constructor for a Book\n",
        "\n",
        "Design a constructor function called Book that takes title and author as parameters. Add a method to the\n",
        "prototype of the Book that displays the book's information. Create at least two book instances and display their\n",
        "\n",
        "information"
      ],
      "metadata": {
        "id": "1H0Ew-jZR9oe"
      }
    },
    {
      "cell_type": "code",
      "source": [
        "\n",
        "function Book(title, author) {\n",
        "  this.title = title;\n",
        "  this.author = author;\n",
        "}\n",
        "\n",
        "Book.prototype.displayInfo = function () {\n",
        "  console.log(`Title: \"${this.title}\", Author: ${this.author}`);\n",
        "};\n",
        "\n",
        "const book1 = new Book(\"To Kill a Mockingbird\", \"Harper Lee\");\n",
        "const book2 = new Book(\"1984\", \"George Orwell\");\n",
        "\n",
        "book1.displayInfo(); // Output: Title: \"To Kill a Mockingbird\", Author: Harper Lee\n",
        "book2.displayInfo(); // Output: Title: \"1984\", Author: George Orwell\n"
      ],
      "metadata": {
        "id": "EP_cdkIPSFfG"
      },
      "execution_count": null,
      "outputs": []
    },
    {
      "cell_type": "markdown",
      "source": [
        "TASK 4\n",
        "\n",
        "Problem Statement 4: Implement Task 1 using Class.\n",
        "\n",
        "Design a JavaScript class called Person with properties for name and age. Implement a method to display the\n",
        "person's name and age. Then, create instances of Person and display their information."
      ],
      "metadata": {
        "id": "Bvn1oO4QSTB6"
      }
    },
    {
      "cell_type": "code",
      "source": [
        "\n",
        "class Person {\n",
        "  constructor(name, age) {\n",
        "    this.name = name;\n",
        "    this.age = age;\n",
        "  }\n",
        "\n",
        "\n",
        "  displayInfo() {\n",
        "    console.log(`Name: ${this.name}, Age: ${this.age}`);\n",
        "  }\n",
        "}\n",
        "\n",
        "\n",
        "const person1 = new Person(\"Alice\", 25);\n",
        "const person2 = new Person(\"Bob\", 30);\n",
        "\n",
        "\n",
        "person1.displayInfo();\n",
        "person2.displayInfo();\n"
      ],
      "metadata": {
        "id": "geXbEgS0SWb-"
      },
      "execution_count": null,
      "outputs": []
    },
    {
      "cell_type": "markdown",
      "source": [
        "TASK 5\n",
        "\n",
        "Problem Statement 5: Implement a Calculator Class\n",
        "\n",
        "Create a class called Calculator that initializes two values value1 and value2 to store numbers. Add methods for\n",
        "add, subtract, multiply, and divide. Perform and show operations."
      ],
      "metadata": {
        "id": "r7yy_zW9Sgso"
      }
    },
    {
      "cell_type": "code",
      "source": [
        "\n",
        "class Calculator {\n",
        "  constructor(value1, value2) {\n",
        "    this.value1 = value1;\n",
        "    this.value2 = value2;\n",
        "  }\n",
        "\n",
        "\n",
        "  add() {\n",
        "    return this.value1 + this.value2;\n",
        "  }\n",
        "\n",
        "  subtract() {\n",
        "    return this.value1 - this.value2;\n",
        "  }\n",
        "\n",
        "\n",
        "  multiply() {\n",
        "    return this.value1 * this.value2;\n",
        "  }\n",
        "\n",
        "\n",
        "  divide() {\n",
        "    if (this.value2 === 0) {\n",
        "      return \"Error: Division by zero is undefined.\";\n",
        "    }\n",
        "    return this.value1 / this.value2;\n",
        "  }\n",
        "}\n",
        "\n",
        "\n",
        "const calc = new Calculator(20, 5);\n",
        "\n",
        "console.log(\"Add:\", calc.add());\n",
        "console.log(\"Subtract:\", calc.subtract());\n",
        "console.log(\"Multiply:\", calc.multiply());\n",
        "console.log(\"Divide:\", calc.divide());\n"
      ],
      "metadata": {
        "id": "GsN_mYotSkBE"
      },
      "execution_count": null,
      "outputs": []
    },
    {
      "cell_type": "markdown",
      "source": [
        "TASK 6\n",
        "\n",
        "Problem Statement 6: Design a Class for a Geometric Shape\n",
        "\n",
        "Design a class called Shape that can represent various geometric shapes. Implement subclasses for specific\n",
        "shapes like Circle, Rectangle, and RightTriangle. Each subclass should have properties of that shape (e.g..\n",
        "Width, height for a rectangle) and methods for calculating the area and perimeter of the shape. Create\n",
        "instances of these shapes and calculate their areas and perimeters."
      ],
      "metadata": {
        "id": "en8DORoySyfz"
      }
    },
    {
      "cell_type": "code",
      "source": [
        "\n",
        "class Shape {\n",
        "  constructor(name) {\n",
        "    this.name = name;\n",
        "  }\n",
        "\n",
        "  // Placeholder methods to be overridden by subclasses\n",
        "  area() {\n",
        "    throw new Error(\"Method 'area()' must be implemented.\");\n",
        "  }\n",
        "\n",
        "  perimeter() {\n",
        "    throw new Error(\"Method 'perimeter()' must be implemented.\");\n",
        "  }\n",
        "}\n",
        "\n",
        "\n",
        "class Circle extends Shape {\n",
        "  constructor(radius) {\n",
        "    super(\"Circle\");\n",
        "    this.radius = radius;\n",
        "  }\n",
        "\n",
        "  area() {\n",
        "    return Math.PI * this.radius * this.radius;\n",
        "  }\n",
        "\n",
        "  perimeter() {\n",
        "    return 2 * Math.PI * this.radius;\n",
        "  }\n",
        "}\n",
        "\n",
        "\n",
        "class Rectangle extends Shape {\n",
        "  constructor(width, height) {\n",
        "    super(\"Rectangle\");\n",
        "    this.width = width;\n",
        "    this.height = height;\n",
        "  }\n",
        "\n",
        "  area() {\n",
        "    return this.width * this.height;\n",
        "  }\n",
        "\n",
        "  perimeter() {\n",
        "    return 2 * (this.width + this.height);\n",
        "  }\n",
        "}\n",
        "\n",
        "\n",
        "class RightTriangle extends Shape {\n",
        "  constructor(base, height) {\n",
        "    super(\"Right Triangle\");\n",
        "    this.base = base;\n",
        "    this.height = height;\n",
        "  }\n",
        "\n",
        "  area() {\n",
        "    return 0.5 * this.base * this.height;\n",
        "  }\n",
        "\n",
        "  perimeter() {\n",
        "    const hypotenuse = Math.sqrt(this.base ** 2 + this.height ** 2);\n",
        "    return this.base + this.height + hypotenuse;\n",
        "  }\n",
        "}\n",
        "\n",
        "const circle = new Circle(5);\n",
        "console.log(`${circle.name} Area:`, circle.area().toFixed(2));\n",
        "console.log(`${circle.name} Perimeter:`, circle.perimeter().toFixed(2));\n",
        "\n",
        "const rectangle = new Rectangle(4, 7);\n",
        "console.log(`${rectangle.name} Area:`, rectangle.area());\n",
        "console.log(`${rectangle.name} Perimeter:`, rectangle.perimeter());\n",
        "\n",
        "const rightTriangle = new RightTriangle(3, 4);\n",
        "console.log(`${rightTriangle.name} Area:`, rightTriangle.area());\n",
        "console.log(`${rightTriangle.name} Perimeter:`, rightTriangle.perimeter().toFixed(2));\n"
      ],
      "metadata": {
        "id": "wh-hDjcESzsw"
      },
      "execution_count": null,
      "outputs": []
    },
    {
      "cell_type": "markdown",
      "source": [
        "TASK 7\n",
        "\n",
        "Problem Statement 7: Implement a Library System\n",
        "\n",
        "Create a class called Library that can manage a collection of books. Each book should be represented as an\n",
        "instance of a Book class (with properties like title, author, and availability). Implement methods in the Library\n",
        "class to add books, check out books, and return books. Keep track of the books available."
      ],
      "metadata": {
        "id": "GUqTuRuaTAFh"
      }
    },
    {
      "cell_type": "code",
      "source": [
        "\n",
        "class Book {\n",
        "  constructor(title, author) {\n",
        "    this.title = title;\n",
        "    this.author = author;\n",
        "    this.isAvailable = true; // availability status\n",
        "  }\n",
        "\n",
        "\n",
        "  displayInfo() {\n",
        "    return `${this.title} by ${this.author} - ${this.isAvailable ? \"Available\" : \"Checked Out\"}`;\n",
        "  }\n",
        "}\n",
        "\n",
        "class Library {\n",
        "  constructor() {\n",
        "    this.books = []; // array to store book instances\n",
        "  }\n",
        "\n",
        "\n",
        "  addBook(book) {\n",
        "    this.books.push(book);\n",
        "    console.log(`Added: ${book.title}`);\n",
        "  }\n",
        "\n",
        "\n",
        "  checkOutBook(title) {\n",
        "    const book = this.books.find(b => b.title === title);\n",
        "    if (!book) {\n",
        "      console.log(`Book titled \"${title}\" not found.`);\n",
        "      return;\n",
        "    }\n",
        "    if (!book.isAvailable) {\n",
        "      console.log(`Sorry, \"${title}\" is already checked out.`);\n",
        "      return;\n",
        "    }\n",
        "    book.isAvailable = false;\n",
        "    console.log(`You have checked out \"${title}\".`);\n",
        "  }\n",
        "\n",
        "  returnBook(title) {\n",
        "    const book = this.books.find(b => b.title === title);\n",
        "    if (!book) {\n",
        "      console.log(`Book titled \"${title}\" not found.`);\n",
        "      return;\n",
        "    }\n",
        "    if (book.isAvailable) {\n",
        "      console.log(`\"${title}\" was not checked out.`);\n",
        "      return;\n",
        "    }\n",
        "    book.isAvailable = true;\n",
        "    console.log(`You have returned \"${title}\".`);\n",
        "  }\n",
        "\n",
        "  listBooks() {\n",
        "    console.log(\"Library Collection:\");\n",
        "    this.books.forEach(book => {\n",
        "      console.log(book.displayInfo());\n",
        "    });\n",
        "  }\n",
        "}\n",
        "\n",
        "const library = new Library();\n",
        "\n",
        "const book1 = new Book(\"The Great Gatsby\", \"F. Scott Fitzgerald\");\n",
        "const book2 = new Book(\"1984\", \"George Orwell\");\n",
        "const book3 = new Book(\"To Kill a Mockingbird\", \"Harper Lee\");\n",
        "\n",
        "library.addBook(book1);\n",
        "library.addBook(book2);\n",
        "library.addBook(book3);\n",
        "\n",
        "library.listBooks();\n",
        "\n",
        "library.checkOutBook(\"1984\");\n",
        "library.checkOutBook(\"The Great Gatsby\");\n",
        "\n",
        "library.listBooks();\n",
        "\n",
        "library.returnBook(\"1984\");\n",
        "library.listBooks();\n"
      ],
      "metadata": {
        "id": "mbImL4KFTBDP"
      },
      "execution_count": null,
      "outputs": []
    }
  ]
}